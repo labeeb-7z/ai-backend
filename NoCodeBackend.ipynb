{
  "nbformat": 4,
  "nbformat_minor": 0,
  "metadata": {
    "colab": {
      "provenance": [],
      "gpuType": "T4"
    },
    "kernelspec": {
      "name": "python3",
      "display_name": "Python 3"
    },
    "language_info": {
      "name": "python"
    },
    "accelerator": "GPU",
    "widgets": {
      "application/vnd.jupyter.widget-state+json": {
        "5c689819c16e49988a201ded4cb6e1c5": {
          "model_module": "@jupyter-widgets/controls",
          "model_name": "HBoxModel",
          "model_module_version": "1.5.0",
          "state": {
            "_dom_classes": [],
            "_model_module": "@jupyter-widgets/controls",
            "_model_module_version": "1.5.0",
            "_model_name": "HBoxModel",
            "_view_count": null,
            "_view_module": "@jupyter-widgets/controls",
            "_view_module_version": "1.5.0",
            "_view_name": "HBoxView",
            "box_style": "",
            "children": [
              "IPY_MODEL_8bd5feb206f84f74b1172a9d530e0bee",
              "IPY_MODEL_c26791afbe6f4bb9b9e66069e72a1318",
              "IPY_MODEL_fb61bfb7a04b4ca38938b3f69de16496"
            ],
            "layout": "IPY_MODEL_a87cd36f06a542efb081ee5aa1a10634"
          }
        },
        "8bd5feb206f84f74b1172a9d530e0bee": {
          "model_module": "@jupyter-widgets/controls",
          "model_name": "HTMLModel",
          "model_module_version": "1.5.0",
          "state": {
            "_dom_classes": [],
            "_model_module": "@jupyter-widgets/controls",
            "_model_module_version": "1.5.0",
            "_model_name": "HTMLModel",
            "_view_count": null,
            "_view_module": "@jupyter-widgets/controls",
            "_view_module_version": "1.5.0",
            "_view_name": "HTMLView",
            "description": "",
            "description_tooltip": null,
            "layout": "IPY_MODEL_4f97b488c52c47f2aac95e715e118926",
            "placeholder": "​",
            "style": "IPY_MODEL_fce9e2f51a3c4456b426fd7428ede028",
            "value": "Loading checkpoint shards: 100%"
          }
        },
        "c26791afbe6f4bb9b9e66069e72a1318": {
          "model_module": "@jupyter-widgets/controls",
          "model_name": "FloatProgressModel",
          "model_module_version": "1.5.0",
          "state": {
            "_dom_classes": [],
            "_model_module": "@jupyter-widgets/controls",
            "_model_module_version": "1.5.0",
            "_model_name": "FloatProgressModel",
            "_view_count": null,
            "_view_module": "@jupyter-widgets/controls",
            "_view_module_version": "1.5.0",
            "_view_name": "ProgressView",
            "bar_style": "success",
            "description": "",
            "description_tooltip": null,
            "layout": "IPY_MODEL_c2457dc3f20f4d269860b35ee2eebb52",
            "max": 3,
            "min": 0,
            "orientation": "horizontal",
            "style": "IPY_MODEL_d3b6299a4aa74321a102a8c0a1e710be",
            "value": 3
          }
        },
        "fb61bfb7a04b4ca38938b3f69de16496": {
          "model_module": "@jupyter-widgets/controls",
          "model_name": "HTMLModel",
          "model_module_version": "1.5.0",
          "state": {
            "_dom_classes": [],
            "_model_module": "@jupyter-widgets/controls",
            "_model_module_version": "1.5.0",
            "_model_name": "HTMLModel",
            "_view_count": null,
            "_view_module": "@jupyter-widgets/controls",
            "_view_module_version": "1.5.0",
            "_view_name": "HTMLView",
            "description": "",
            "description_tooltip": null,
            "layout": "IPY_MODEL_22f5175052f14f1596b61574bf5f1569",
            "placeholder": "​",
            "style": "IPY_MODEL_87f5e82ce794436b9e7b58c953efdb4b",
            "value": " 3/3 [01:59&lt;00:00, 37.98s/it]"
          }
        },
        "a87cd36f06a542efb081ee5aa1a10634": {
          "model_module": "@jupyter-widgets/base",
          "model_name": "LayoutModel",
          "model_module_version": "1.2.0",
          "state": {
            "_model_module": "@jupyter-widgets/base",
            "_model_module_version": "1.2.0",
            "_model_name": "LayoutModel",
            "_view_count": null,
            "_view_module": "@jupyter-widgets/base",
            "_view_module_version": "1.2.0",
            "_view_name": "LayoutView",
            "align_content": null,
            "align_items": null,
            "align_self": null,
            "border": null,
            "bottom": null,
            "display": null,
            "flex": null,
            "flex_flow": null,
            "grid_area": null,
            "grid_auto_columns": null,
            "grid_auto_flow": null,
            "grid_auto_rows": null,
            "grid_column": null,
            "grid_gap": null,
            "grid_row": null,
            "grid_template_areas": null,
            "grid_template_columns": null,
            "grid_template_rows": null,
            "height": null,
            "justify_content": null,
            "justify_items": null,
            "left": null,
            "margin": null,
            "max_height": null,
            "max_width": null,
            "min_height": null,
            "min_width": null,
            "object_fit": null,
            "object_position": null,
            "order": null,
            "overflow": null,
            "overflow_x": null,
            "overflow_y": null,
            "padding": null,
            "right": null,
            "top": null,
            "visibility": null,
            "width": null
          }
        },
        "4f97b488c52c47f2aac95e715e118926": {
          "model_module": "@jupyter-widgets/base",
          "model_name": "LayoutModel",
          "model_module_version": "1.2.0",
          "state": {
            "_model_module": "@jupyter-widgets/base",
            "_model_module_version": "1.2.0",
            "_model_name": "LayoutModel",
            "_view_count": null,
            "_view_module": "@jupyter-widgets/base",
            "_view_module_version": "1.2.0",
            "_view_name": "LayoutView",
            "align_content": null,
            "align_items": null,
            "align_self": null,
            "border": null,
            "bottom": null,
            "display": null,
            "flex": null,
            "flex_flow": null,
            "grid_area": null,
            "grid_auto_columns": null,
            "grid_auto_flow": null,
            "grid_auto_rows": null,
            "grid_column": null,
            "grid_gap": null,
            "grid_row": null,
            "grid_template_areas": null,
            "grid_template_columns": null,
            "grid_template_rows": null,
            "height": null,
            "justify_content": null,
            "justify_items": null,
            "left": null,
            "margin": null,
            "max_height": null,
            "max_width": null,
            "min_height": null,
            "min_width": null,
            "object_fit": null,
            "object_position": null,
            "order": null,
            "overflow": null,
            "overflow_x": null,
            "overflow_y": null,
            "padding": null,
            "right": null,
            "top": null,
            "visibility": null,
            "width": null
          }
        },
        "fce9e2f51a3c4456b426fd7428ede028": {
          "model_module": "@jupyter-widgets/controls",
          "model_name": "DescriptionStyleModel",
          "model_module_version": "1.5.0",
          "state": {
            "_model_module": "@jupyter-widgets/controls",
            "_model_module_version": "1.5.0",
            "_model_name": "DescriptionStyleModel",
            "_view_count": null,
            "_view_module": "@jupyter-widgets/base",
            "_view_module_version": "1.2.0",
            "_view_name": "StyleView",
            "description_width": ""
          }
        },
        "c2457dc3f20f4d269860b35ee2eebb52": {
          "model_module": "@jupyter-widgets/base",
          "model_name": "LayoutModel",
          "model_module_version": "1.2.0",
          "state": {
            "_model_module": "@jupyter-widgets/base",
            "_model_module_version": "1.2.0",
            "_model_name": "LayoutModel",
            "_view_count": null,
            "_view_module": "@jupyter-widgets/base",
            "_view_module_version": "1.2.0",
            "_view_name": "LayoutView",
            "align_content": null,
            "align_items": null,
            "align_self": null,
            "border": null,
            "bottom": null,
            "display": null,
            "flex": null,
            "flex_flow": null,
            "grid_area": null,
            "grid_auto_columns": null,
            "grid_auto_flow": null,
            "grid_auto_rows": null,
            "grid_column": null,
            "grid_gap": null,
            "grid_row": null,
            "grid_template_areas": null,
            "grid_template_columns": null,
            "grid_template_rows": null,
            "height": null,
            "justify_content": null,
            "justify_items": null,
            "left": null,
            "margin": null,
            "max_height": null,
            "max_width": null,
            "min_height": null,
            "min_width": null,
            "object_fit": null,
            "object_position": null,
            "order": null,
            "overflow": null,
            "overflow_x": null,
            "overflow_y": null,
            "padding": null,
            "right": null,
            "top": null,
            "visibility": null,
            "width": null
          }
        },
        "d3b6299a4aa74321a102a8c0a1e710be": {
          "model_module": "@jupyter-widgets/controls",
          "model_name": "ProgressStyleModel",
          "model_module_version": "1.5.0",
          "state": {
            "_model_module": "@jupyter-widgets/controls",
            "_model_module_version": "1.5.0",
            "_model_name": "ProgressStyleModel",
            "_view_count": null,
            "_view_module": "@jupyter-widgets/base",
            "_view_module_version": "1.2.0",
            "_view_name": "StyleView",
            "bar_color": null,
            "description_width": ""
          }
        },
        "22f5175052f14f1596b61574bf5f1569": {
          "model_module": "@jupyter-widgets/base",
          "model_name": "LayoutModel",
          "model_module_version": "1.2.0",
          "state": {
            "_model_module": "@jupyter-widgets/base",
            "_model_module_version": "1.2.0",
            "_model_name": "LayoutModel",
            "_view_count": null,
            "_view_module": "@jupyter-widgets/base",
            "_view_module_version": "1.2.0",
            "_view_name": "LayoutView",
            "align_content": null,
            "align_items": null,
            "align_self": null,
            "border": null,
            "bottom": null,
            "display": null,
            "flex": null,
            "flex_flow": null,
            "grid_area": null,
            "grid_auto_columns": null,
            "grid_auto_flow": null,
            "grid_auto_rows": null,
            "grid_column": null,
            "grid_gap": null,
            "grid_row": null,
            "grid_template_areas": null,
            "grid_template_columns": null,
            "grid_template_rows": null,
            "height": null,
            "justify_content": null,
            "justify_items": null,
            "left": null,
            "margin": null,
            "max_height": null,
            "max_width": null,
            "min_height": null,
            "min_width": null,
            "object_fit": null,
            "object_position": null,
            "order": null,
            "overflow": null,
            "overflow_x": null,
            "overflow_y": null,
            "padding": null,
            "right": null,
            "top": null,
            "visibility": null,
            "width": null
          }
        },
        "87f5e82ce794436b9e7b58c953efdb4b": {
          "model_module": "@jupyter-widgets/controls",
          "model_name": "DescriptionStyleModel",
          "model_module_version": "1.5.0",
          "state": {
            "_model_module": "@jupyter-widgets/controls",
            "_model_module_version": "1.5.0",
            "_model_name": "DescriptionStyleModel",
            "_view_count": null,
            "_view_module": "@jupyter-widgets/base",
            "_view_module_version": "1.2.0",
            "_view_name": "StyleView",
            "description_width": ""
          }
        }
      }
    }
  },
  "cells": [
    {
      "cell_type": "code",
      "source": [
        "pip install bitsandbytes"
      ],
      "metadata": {
        "colab": {
          "base_uri": "https://localhost:8080/"
        },
        "id": "F9rKL_DzO-wM",
        "outputId": "8018d9fc-b5cc-4a5e-c1ea-764edd44406c"
      },
      "execution_count": 1,
      "outputs": [
        {
          "output_type": "stream",
          "name": "stdout",
          "text": [
            "Requirement already satisfied: bitsandbytes in /usr/local/lib/python3.10/dist-packages (0.42.0)\n",
            "Requirement already satisfied: scipy in /usr/local/lib/python3.10/dist-packages (from bitsandbytes) (1.11.4)\n",
            "Requirement already satisfied: numpy<1.28.0,>=1.21.6 in /usr/local/lib/python3.10/dist-packages (from scipy->bitsandbytes) (1.25.2)\n"
          ]
        }
      ]
    },
    {
      "cell_type": "code",
      "source": [
        "pip install accelerate"
      ],
      "metadata": {
        "colab": {
          "base_uri": "https://localhost:8080/"
        },
        "id": "x6rof1XnQB5H",
        "outputId": "65d79acd-51d3-41a2-c496-1b73e6bdba18"
      },
      "execution_count": 2,
      "outputs": [
        {
          "output_type": "stream",
          "name": "stdout",
          "text": [
            "Requirement already satisfied: accelerate in /usr/local/lib/python3.10/dist-packages (0.27.2)\n",
            "Requirement already satisfied: numpy>=1.17 in /usr/local/lib/python3.10/dist-packages (from accelerate) (1.25.2)\n",
            "Requirement already satisfied: packaging>=20.0 in /usr/local/lib/python3.10/dist-packages (from accelerate) (23.2)\n",
            "Requirement already satisfied: psutil in /usr/local/lib/python3.10/dist-packages (from accelerate) (5.9.5)\n",
            "Requirement already satisfied: pyyaml in /usr/local/lib/python3.10/dist-packages (from accelerate) (6.0.1)\n",
            "Requirement already satisfied: torch>=1.10.0 in /usr/local/lib/python3.10/dist-packages (from accelerate) (2.1.0+cu121)\n",
            "Requirement already satisfied: huggingface-hub in /usr/local/lib/python3.10/dist-packages (from accelerate) (0.20.3)\n",
            "Requirement already satisfied: safetensors>=0.3.1 in /usr/local/lib/python3.10/dist-packages (from accelerate) (0.4.2)\n",
            "Requirement already satisfied: filelock in /usr/local/lib/python3.10/dist-packages (from torch>=1.10.0->accelerate) (3.13.1)\n",
            "Requirement already satisfied: typing-extensions in /usr/local/lib/python3.10/dist-packages (from torch>=1.10.0->accelerate) (4.9.0)\n",
            "Requirement already satisfied: sympy in /usr/local/lib/python3.10/dist-packages (from torch>=1.10.0->accelerate) (1.12)\n",
            "Requirement already satisfied: networkx in /usr/local/lib/python3.10/dist-packages (from torch>=1.10.0->accelerate) (3.2.1)\n",
            "Requirement already satisfied: jinja2 in /usr/local/lib/python3.10/dist-packages (from torch>=1.10.0->accelerate) (3.1.3)\n",
            "Requirement already satisfied: fsspec in /usr/local/lib/python3.10/dist-packages (from torch>=1.10.0->accelerate) (2023.6.0)\n",
            "Requirement already satisfied: triton==2.1.0 in /usr/local/lib/python3.10/dist-packages (from torch>=1.10.0->accelerate) (2.1.0)\n",
            "Requirement already satisfied: requests in /usr/local/lib/python3.10/dist-packages (from huggingface-hub->accelerate) (2.31.0)\n",
            "Requirement already satisfied: tqdm>=4.42.1 in /usr/local/lib/python3.10/dist-packages (from huggingface-hub->accelerate) (4.66.2)\n",
            "Requirement already satisfied: MarkupSafe>=2.0 in /usr/local/lib/python3.10/dist-packages (from jinja2->torch>=1.10.0->accelerate) (2.1.5)\n",
            "Requirement already satisfied: charset-normalizer<4,>=2 in /usr/local/lib/python3.10/dist-packages (from requests->huggingface-hub->accelerate) (3.3.2)\n",
            "Requirement already satisfied: idna<4,>=2.5 in /usr/local/lib/python3.10/dist-packages (from requests->huggingface-hub->accelerate) (3.6)\n",
            "Requirement already satisfied: urllib3<3,>=1.21.1 in /usr/local/lib/python3.10/dist-packages (from requests->huggingface-hub->accelerate) (2.0.7)\n",
            "Requirement already satisfied: certifi>=2017.4.17 in /usr/local/lib/python3.10/dist-packages (from requests->huggingface-hub->accelerate) (2024.2.2)\n",
            "Requirement already satisfied: mpmath>=0.19 in /usr/local/lib/python3.10/dist-packages (from sympy->torch>=1.10.0->accelerate) (1.3.0)\n"
          ]
        }
      ]
    },
    {
      "cell_type": "code",
      "execution_count": 3,
      "metadata": {
        "colab": {
          "base_uri": "https://localhost:8080/",
          "height": 173,
          "referenced_widgets": [
            "5c689819c16e49988a201ded4cb6e1c5",
            "8bd5feb206f84f74b1172a9d530e0bee",
            "c26791afbe6f4bb9b9e66069e72a1318",
            "fb61bfb7a04b4ca38938b3f69de16496",
            "a87cd36f06a542efb081ee5aa1a10634",
            "4f97b488c52c47f2aac95e715e118926",
            "fce9e2f51a3c4456b426fd7428ede028",
            "c2457dc3f20f4d269860b35ee2eebb52",
            "d3b6299a4aa74321a102a8c0a1e710be",
            "22f5175052f14f1596b61574bf5f1569",
            "87f5e82ce794436b9e7b58c953efdb4b"
          ]
        },
        "id": "dlmnDoHMO7Os",
        "outputId": "ec2fa42b-9733-4baf-d2fa-e1a5bf8d0a27"
      },
      "outputs": [
        {
          "output_type": "stream",
          "name": "stderr",
          "text": [
            "/usr/local/lib/python3.10/dist-packages/huggingface_hub/utils/_token.py:88: UserWarning: \n",
            "The secret `HF_TOKEN` does not exist in your Colab secrets.\n",
            "To authenticate with the Hugging Face Hub, create a token in your settings tab (https://huggingface.co/settings/tokens), set it as secret in your Google Colab and restart your session.\n",
            "You will be able to reuse this secret in all of your notebooks.\n",
            "Please note that authentication is recommended but still optional to access public models or datasets.\n",
            "  warnings.warn(\n"
          ]
        },
        {
          "output_type": "display_data",
          "data": {
            "text/plain": [
              "Loading checkpoint shards:   0%|          | 0/3 [00:00<?, ?it/s]"
            ],
            "application/vnd.jupyter.widget-view+json": {
              "version_major": 2,
              "version_minor": 0,
              "model_id": "5c689819c16e49988a201ded4cb6e1c5"
            }
          },
          "metadata": {}
        }
      ],
      "source": [
        "import torch\n",
        "from transformers import AutoTokenizer, AutoModelForCausalLM, BitsAndBytesConfig\n",
        "\n",
        "model_id =  \"codellama/CodeLlama-13b-Instruct-hf\"\n",
        "bnb_config = BitsAndBytesConfig(\n",
        "    load_in_4bit=True,\n",
        "    bnb_4bit_use_double_quant=True,\n",
        "    bnb_4bit_quant_type=\"nf4\",\n",
        "    bnb_4bit_compute_dtype=torch.bfloat16\n",
        ")\n",
        "\n",
        "model = AutoModelForCausalLM.from_pretrained(model_id, quantization_config=bnb_config, device_map=\"auto\")\n",
        "\n",
        "tokenizer = AutoTokenizer.from_pretrained(model_id)\n",
        "tokenizer.pad_token = tokenizer.eos_token\n",
        "tokenizer.padding_side = \"right\"\n",
        "eos_token_id = tokenizer.eos_token_id"
      ]
    },
    {
      "cell_type": "code",
      "source": [
        "question = \"\"\"write a javascript function to add 2 numbers\"\"\"\n",
        "\n",
        "def evaluate(question):\n",
        "  eval_prompt = \"\"\"### Task\n",
        "  # Generate a SQL query to answer the following question. Give answer according to MySql 5.7.21:\n",
        "  # `{question}\n",
        "\n",
        "  # ### Database Schema\n",
        "  # This query will run on a database whose schema is represented in this string:\n",
        "  # if all columns are required give the (*) notation.\n",
        "\n",
        "\n",
        "  # CREATE TABLE IF NOT EXISTS orders (\n",
        "  # <define your=\"\" table=\"\" schema=\"\">;\n",
        "\n",
        "  # ### SQL\n",
        "  # Given the database schema, here is the SQL query that answers `{question}`:\n",
        "  # ```sql\n",
        "  # \"\"\".format(question=question)\n",
        "  print(question)\n",
        "  model_input = tokenizer(eval_prompt, return_tensors=\"pt\").to(\"cuda\")\n",
        "\n",
        "\n",
        "  import sqlparse\n",
        "  outputs = tokenizer.batch_decode(model.generate(**model_input,eos_token_id=eos_token_id,pad_token_id=eos_token_id,max_new_tokens=100,do_sample=False,\n",
        "      num_beams=1), skip_special_tokens=True)\n",
        "  sql = sqlparse.format(outputs[0].split(\"```sql\")[-1], reindent=True)\n",
        "\n",
        "  return sql\n",
        "\n",
        "sql = evaluate(question)"
      ],
      "metadata": {
        "colab": {
          "base_uri": "https://localhost:8080/"
        },
        "id": "1MYn_Hj9qfY_",
        "outputId": "646911fc-5ac1-4df3-f524-74dd861ef977"
      },
      "execution_count": 7,
      "outputs": [
        {
          "output_type": "stream",
          "name": "stdout",
          "text": [
            "write a javascript function to add 2 numbers\n"
          ]
        }
      ]
    },
    {
      "cell_type": "code",
      "source": [
        "import re\n",
        "def refine_sql(sql):\n",
        "  ans=''\n",
        "  for i in range(0, len(sql)):\n",
        "    if sql[i]!='#' and sql[i]!='`':\n",
        "      ans+=sql[i]\n",
        "    if sql[i] =='`':\n",
        "      break\n",
        "  sql=ans\n",
        "  sql=re.sub(r'\\s+$', '', sql)\n",
        "  if_sql=True\n",
        "  if sql==\"\":\n",
        "    if_sql=False\n",
        "  return sql, if_sql\n",
        "\n",
        "sql, if_sql = refine_sql(sql)\n",
        "print(if_sql)"
      ],
      "metadata": {
        "colab": {
          "base_uri": "https://localhost:8080/"
        },
        "id": "ZAHqiUfKbImb",
        "outputId": "1f0563db-3862-4a9e-bb2e-1c1fe609b7a3"
      },
      "execution_count": 9,
      "outputs": [
        {
          "output_type": "stream",
          "name": "stdout",
          "text": [
            "False\n"
          ]
        }
      ]
    },
    {
      "cell_type": "code",
      "source": [
        "# Used to securely store your API key\n",
        "from google.colab import userdata"
      ],
      "metadata": {
        "id": "9cmHIrFBMfEf"
      },
      "execution_count": 10,
      "outputs": []
    },
    {
      "cell_type": "code",
      "source": [
        "import pathlib\n",
        "import textwrap\n",
        "\n",
        "import google.generativeai as genai\n",
        "\n",
        "from IPython.display import display\n",
        "from IPython.display import Markdown\n",
        "\n",
        "\n",
        "def to_markdown(text):\n",
        "  text = text.replace('•', '  *')\n",
        "  return Markdown(textwrap.indent(text, '> ', predicate=lambda _: True))"
      ],
      "metadata": {
        "id": "M7pJP119MaWG"
      },
      "execution_count": 11,
      "outputs": []
    },
    {
      "cell_type": "code",
      "source": [
        "# Or use `os.getenv('GOOGLE_API_KEY')` to fetch an environment variable.\n",
        "GOOGLE_API_KEY=userdata.get('GOOGLE_API_KEY')\n",
        "\n",
        "genai.configure(api_key=GOOGLE_API_KEY)"
      ],
      "metadata": {
        "id": "H49d4eXJMjOf"
      },
      "execution_count": 12,
      "outputs": []
    },
    {
      "cell_type": "code",
      "source": [
        "model1 = genai.GenerativeModel('gemini-pro')"
      ],
      "metadata": {
        "id": "ERunu-W9MmxY"
      },
      "execution_count": 13,
      "outputs": []
    },
    {
      "cell_type": "code",
      "source": [
        "for m in genai.list_models():\n",
        "  if 'generateContent' in m.supported_generation_methods:\n",
        "    print(m.name)"
      ],
      "metadata": {
        "colab": {
          "base_uri": "https://localhost:8080/",
          "height": 121
        },
        "id": "ZWSBjYE6Mj-8",
        "outputId": "125789b3-6964-40b8-bb1d-2817ac862f0f"
      },
      "execution_count": 14,
      "outputs": [
        {
          "output_type": "stream",
          "name": "stdout",
          "text": [
            "models/gemini-1.0-pro\n",
            "models/gemini-1.0-pro-001\n",
            "models/gemini-1.0-pro-latest\n",
            "models/gemini-1.0-pro-vision-latest\n",
            "models/gemini-pro\n",
            "models/gemini-pro-vision\n"
          ]
        }
      ]
    },
    {
      "cell_type": "code",
      "source": [
        "def sql_to_gemini(sql, question, if_sql):\n",
        "  prompt = f\"\"\"Write a javascript function that corresponds to the sql query : {sql}\"\"\"\n",
        "  if if_sql==False:\n",
        "    prompt = question\n",
        "  response = model1.generate_content(prompt, stream=True)\n",
        "  return response\n",
        "\n",
        "response = sql_to_gemini(sql, question, if_sql)"
      ],
      "metadata": {
        "id": "-6Gyvl6jORMI"
      },
      "execution_count": 15,
      "outputs": []
    },
    {
      "cell_type": "code",
      "source": [
        "def print_answer(response):\n",
        "  for chunk in response:\n",
        "    print(chunk.text)\n",
        "print_answer(response)"
      ],
      "metadata": {
        "id": "ZWSk0HXnOVIu",
        "outputId": "7a3e7c48-fe17-4087-899f-a75a49a3f9c5",
        "colab": {
          "base_uri": "https://localhost:8080/"
        }
      },
      "execution_count": 16,
      "outputs": [
        {
          "output_type": "stream",
          "name": "stdout",
          "text": [
            "```javascript\n",
            "function add(num1, num2) {\n",
            "  //\n",
            " Check if the arguments are valid numbers\n",
            "  if (typeof num1 !== \"number\" || typeof num2 !== \"number\") {\n",
            "    throw new Error\n",
            "(\"Invalid arguments: both arguments must be numbers.\");\n",
            "  }\n",
            "\n",
            "  // Add the two numbers and return the result\n",
            "  return num1 + num2;\n",
            "}\n",
            "```\n"
          ]
        }
      ]
    },
    {
      "cell_type": "code",
      "source": [
        "question = \"\"\"\n",
        "             Table: Employee\n",
        "            Column Name: id, name, salary, departmentId\n",
        "            Type: int, varchar, int, int\n",
        "\n",
        "            id is the primary key (column with unique values) for this table.\n",
        "            departmentId is a foreign key (reference column) of the ID from the Department table.\n",
        "            Each row of this table indicates the ID, name, and salary of an employee. It also contains the ID of their department.\n",
        "\n",
        "\n",
        "            Table: Department\n",
        "            Column Name: id, name\n",
        "            Type: int, varchar\n",
        "\n",
        "            id is the primary key (column with unique values) for this table.\n",
        "            Each row of this table indicates the ID of a department and its name.\n",
        "\n",
        "\n",
        "            A company's executives are interested in seeing who earns the most money in each of the company's departments. A high earner in a department is an employee who has a salary in the top three unique salaries for that department.\n",
        "\n",
        "            Write a javascript function to find the employees who are high earners in each of the departments.\n",
        "            Do not use LIMIT & IN/ALL/ANY/SOME subquery\n",
        "            \"\"\"\n",
        "\n",
        "eval_prompt = \"\"\"### Task\n",
        "# Generate a SQL query to answer the following question. Give answer according to MySql 5.7.21:\n",
        "# `{question}\n",
        "\n",
        "# ### Database Schema\n",
        "# This query will run on a database whose schema is represented in this string:\n",
        "# if all columns are required give the (*) notation.\n",
        "# Do not use LIMIT & IN/ALL/ANY/SOME subquery\n",
        "\n",
        "# CREATE TABLE IF NOT EXISTS orders (\n",
        "# <define your=\"\" table=\"\" schema=\"\">;\n",
        "\n",
        "# ### SQL\n",
        "# Given the database schema, here is the SQL query that answers `{question}`:\n",
        "# ```sql\n",
        "# \"\"\".format(question=question)\n",
        "\n",
        "sql = evaluate(question)\n",
        "sql, if_sql = refine_sql(sql)\n",
        "response = sql_to_gemini(sql, question, if_sql)\n",
        "print_answer(response)"
      ],
      "metadata": {
        "colab": {
          "base_uri": "https://localhost:8080/",
          "height": 1000
        },
        "id": "PyW9U-DRgA27",
        "outputId": "91f1f6c0-dbff-4052-fbb2-a6f3d1f99b5a"
      },
      "execution_count": 17,
      "outputs": [
        {
          "output_type": "stream",
          "name": "stdout",
          "text": [
            "\n",
            "             Table: Employee\n",
            "            Column Name: id, name, salary, departmentId\n",
            "            Type: int, varchar, int, int\n",
            "\n",
            "            id is the primary key (column with unique values) for this table.\n",
            "            departmentId is a foreign key (reference column) of the ID from the Department table.\n",
            "            Each row of this table indicates the ID, name, and salary of an employee. It also contains the ID of their department.\n",
            "\n",
            "\n",
            "            Table: Department\n",
            "            Column Name: id, name\n",
            "            Type: int, varchar\n",
            "\n",
            "            id is the primary key (column with unique values) for this table.\n",
            "            Each row of this table indicates the ID of a department and its name.\n",
            "\n",
            "\n",
            "            A company's executives are interested in seeing who earns the most money in each of the company's departments. A high earner in a department is an employee who has a salary in the top three unique salaries for that department.\n",
            "\n",
            "            Write a javascript function to find the employees who are high earners in each of the departments.\n",
            "            Do not use LIMIT & IN/ALL/ANY/SOME subquery\n",
            "            \n",
            "```javascript\n",
            "const getEmployeesWithMaxSalaryInEachDepartment = (employees,\n",
            " departments) => {\n",
            "  // Create a map of department IDs to maximum salaries\n",
            "  const maxSalariesByDepartment = new Map();\n",
            "  for (\n",
            "const employee of employees) {\n",
            "    if (!maxSalariesByDepartment.has(employee.departmentId)) {\n",
            "      maxSalariesByDepartment.set(employee.departmentId, employee.salary);\n",
            "    } else {\n",
            "      maxSalariesByDepartment.set(employee.departmentId, Math\n",
            ".max(maxSalariesByDepartment.get(employee.departmentId), employee.salary));\n",
            "    }\n",
            "  }\n",
            "\n",
            "  // Filter employees by maximum salary in each department\n",
            "  const qualifiedEmployees = [];\n",
            "  for (const employee of employees) {\n",
            "    if (employee.salary === maxSalariesByDepartment.get(employee.departmentId)) {\n",
            "      // Join employee data with department data\n",
            "      const department = departments.find((d) => d.id === employee.departmentId);\n",
            "      qualifiedEmployees.push({\n",
            "        id: employee.id,\n",
            "        name: employee.name\n",
            ",\n",
            "        salary: employee.salary,\n",
            "        department_name: department.name,\n",
            "      });\n",
            "    }\n",
            "  }\n",
            "\n",
            "  return qualifiedEmployees;\n",
            "};\n",
            "```\n"
          ]
        }
      ]
    }
  ]
}